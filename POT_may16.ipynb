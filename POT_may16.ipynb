{
 "cells": [
  {
   "cell_type": "code",
   "execution_count": 12,
   "metadata": {},
   "outputs": [],
   "source": [
    "import numpy as np\n",
    "import pandas as pd\n",
    "import matplotlib.pyplot as plt\n",
    "from POT import POT"
   ]
  },
  {
   "cell_type": "code",
   "execution_count": 2,
   "metadata": {},
   "outputs": [],
   "source": [
    "def split_pos_neg(p):\n",
    "    p_pos_full = np.zeros_like(p)#, dtype=np.float16)\n",
    "    p_neg_full = np.zeros_like(p)#, dtype=np.float16)\n",
    "\n",
    "    p_pos_indices = np.where(p > 0)[0]\n",
    "    p_neg_indices = np.where(p < 0)[0]\n",
    "\n",
    "    p_pos_full[p_pos_indices] = p[p_pos_indices]\n",
    "    p_neg_full[p_neg_indices] = p[p_neg_indices]\n",
    "\n",
    "    p_neg_full = np.abs(p_neg_full)\n",
    "\n",
    "    return p_pos_full, p_neg_full"
   ]
  },
  {
   "cell_type": "code",
   "execution_count": 3,
   "metadata": {},
   "outputs": [
    {
     "name": "stdout",
     "output_type": "stream",
     "text": [
      "PRESSURE SHAPE: \n",
      "(39600,)\n",
      "0.0314622997415602\n",
      "\n",
      "DOA SHAPE: \n",
      "(39600, 3)\n",
      "[-0.30038384 -0.90115151  2.70345452]\n",
      "\n",
      "PRESSURE SHAPE: \n",
      "(39600,)\n",
      "0.0131101894537361\n",
      "\n",
      "DOA SHAPE: \n",
      "(39600, 3)\n",
      "[-1.83276663 -1.22184442 -1.83276663]\n",
      "\n"
     ]
    }
   ],
   "source": [
    "# Load pressure and DOA data for locations 2 and 4\n",
    "pressure_files = ['/Users/valeriolorenzoni/Documents/maria/helixon/csv/P_1.csv', '/Users/valeriolorenzoni/Documents/maria/helixon/csv/P_3.csv']\n",
    "doa_files = ['/Users/valeriolorenzoni/Documents/maria/helixon/csv/doa_1.csv', '/Users/valeriolorenzoni/Documents/maria/helixon/csv/doa_3.csv']\n",
    "\n",
    "p_w_pos = []\n",
    "p_w_neg = []\n",
    "doa_data = []\n",
    "\n",
    "for i in range(len(pressure_files)):\n",
    "    df_pressure = pd.read_csv(pressure_files[i], header=None).values.flatten()#.astype(np.float16)\n",
    "    df_pressure = df_pressure[400:40000]#.astype(np.float16)\n",
    "    print(\"PRESSURE SHAPE: \")\n",
    "    print(df_pressure.shape)\n",
    "    print(df_pressure[0] )\n",
    "    print()\n",
    "\n",
    "\n",
    "    df_doa = pd.read_csv(doa_files[i], header=None).values#.astype(np.float16)\n",
    "    df_doa = df_doa[400:40000]#.astype(np.float16)\n",
    "    print(\"DOA SHAPE: \")\n",
    "    print(df_doa.shape)\n",
    "    print(df_doa[0])\n",
    "    print()\n",
    "\n",
    "    combined_df = pd.DataFrame({'pressure': df_pressure, 'doa_x': df_doa[:,0], 'doa_y': df_doa[:,1], 'doa_z': df_doa[:,2]})\n",
    "\n",
    "    # Drop rows with any NaN values and get corresponding indices\n",
    "    combined_df = combined_df.dropna()\n",
    "\n",
    "    # Separate pressure data back\n",
    "    df_pressure = combined_df['pressure'].values\n",
    "    df_doa = combined_df[['doa_x', 'doa_y', 'doa_z']].values\n",
    "\n",
    "    # Splitting positive and negative pressure\n",
    "    p_pos, p_neg = split_pos_neg(df_pressure)\n",
    "    p_w_pos.append(p_pos)\n",
    "    p_w_neg.append(p_neg)\n",
    "    doa_data.append(df_doa)\n",
    "\n",
    "doa_data[0] = doa_data[0][0:30000]\n",
    "doa_data[1] = doa_data[1][0:30000]\n",
    "p_w_pos[0] = p_w_pos[0][0:30000]\n",
    "p_w_pos[1] = p_w_pos[1][0:30000]\n",
    "p_w_neg[0] = p_w_neg[0][0:30000]\n",
    "p_w_neg[1] = p_w_neg[1][0:30000]\n"
   ]
  },
  {
   "cell_type": "code",
   "execution_count": 4,
   "metadata": {},
   "outputs": [
    {
     "name": "stdout",
     "output_type": "stream",
     "text": [
      "CHECK IF DIMENSIONS ARE RIGHT: \n",
      "(30000, 3)\n",
      "(30000,)\n",
      "30000\n",
      "\n"
     ]
    }
   ],
   "source": [
    "# Create point clouds for positive and negative pressures\n",
    "PC2_pos = {'pos': doa_data[0].reshape(-1,3), 'mass': p_w_pos[0], 'n': len(doa_data[0])}\n",
    "PC4_pos = {'pos': doa_data[1].reshape(-1,3), 'mass': p_w_pos[1], 'n': len(doa_data[1])}\n",
    "\n",
    "PC2_neg = {'pos': doa_data[0].reshape(-1,3), 'mass': p_w_neg[0], 'n': len(doa_data[0])}\n",
    "PC4_neg = {'pos': doa_data[1].reshape(-1,3), 'mass': p_w_neg[1], 'n': len(doa_data[1])}\n",
    "print(\"CHECK IF DIMENSIONS ARE RIGHT: \")\n",
    "print(PC2_neg['pos'].shape)\n",
    "print(PC2_pos['mass'].shape)\n",
    "print(PC2_pos['n'])\n",
    "print()"
   ]
  },
  {
   "cell_type": "code",
   "execution_count": 5,
   "metadata": {},
   "outputs": [
    {
     "name": "stdout",
     "output_type": "stream",
     "text": [
      "DIST EX: \n",
      "73.40655305702766\n",
      "\n"
     ]
    }
   ],
   "source": [
    "# Set expected distance and tolerance\n",
    "distEx = np.nanmean(np.abs(PC4_pos['pos'] - PC2_pos['pos']))#.astype(np.float16)  # IDK WHAT TO PUT SO I DID THIS\n",
    "distTol = 0.2 #np.float16(0.2)\n",
    "print(\"DIST EX: \")\n",
    "print(distEx)\n",
    "print()\n"
   ]
  },
  {
   "cell_type": "code",
   "execution_count": 6,
   "metadata": {},
   "outputs": [
    {
     "name": "stdout",
     "output_type": "stream",
     "text": [
      "COST MATRIX SHAPE: \n",
      "(30000, 30000)\n",
      "DUMMY COST: 215.54088126856874\n",
      "mass transported: 12708.692428079417 index: 0\n",
      "DONE WITH OBTAINING TX ONCE\n",
      "Number of non-zeros in Tx: 24255\n",
      "Cost coarse at index 0\n",
      "mass transported: 12849.900121724744 index: 1\n",
      "DONE WITH OBTAINING TX ONCE\n",
      "Number of non-zeros in Tx: 24766\n",
      "Cost coarse at index 1\n",
      "mass transported: 12991.107815370071 index: 2\n",
      "DONE WITH OBTAINING TX ONCE\n",
      "Number of non-zeros in Tx: 25269\n",
      "Cost coarse at index 2\n",
      "mass transported: 13132.315509015398 index: 3\n",
      "DONE WITH OBTAINING TX ONCE\n",
      "Number of non-zeros in Tx: 25741\n",
      "Cost coarse at index 3\n",
      "mass transported: 13273.523202660725 index: 4\n",
      "DONE WITH OBTAINING TX ONCE\n",
      "Number of non-zeros in Tx: 26213\n",
      "Cost coarse at index 4\n",
      "mass transported: 13414.730896306051 index: 5\n",
      "DONE WITH OBTAINING TX ONCE\n",
      "Number of non-zeros in Tx: 26723\n",
      "Cost coarse at index 5\n",
      "mass transported: 13555.938589951378 index: 6\n",
      "DONE WITH OBTAINING TX ONCE\n",
      "Number of non-zeros in Tx: 27238\n",
      "Cost coarse at index 6\n",
      "mass transported: 13697.146283596707 index: 7\n",
      "DONE WITH OBTAINING TX ONCE\n",
      "Number of non-zeros in Tx: 27716\n",
      "Cost coarse at index 7\n",
      "mass transported: 13838.353977242034 index: 8\n",
      "DONE WITH OBTAINING TX ONCE\n",
      "Number of non-zeros in Tx: 28216\n",
      "Cost coarse at index 8\n",
      "mass transported: 13979.56167088736 index: 9\n",
      "DONE WITH OBTAINING TX ONCE\n",
      "Number of non-zeros in Tx: 28784\n",
      "Cost coarse at index 9\n",
      "mass transported: 14120.769364532685 index: 10\n",
      "DONE WITH OBTAINING TX ONCE\n",
      "Number of non-zeros in Tx: 29465\n",
      "Cost coarse at index 10\n",
      "REAACHEEEDDDDDDDDDDDDD end of pot pos\n",
      "(30000, 30000)\n"
     ]
    }
   ],
   "source": [
    "pot_pos = POT(PC2_pos, PC4_pos, distEx, distTol)\n",
    "print(\"REAACHEEEDDDDDDDDDDDDD end of pot pos\")\n",
    "print(np.mat(pot_pos.T).shape)"
   ]
  },
  {
   "cell_type": "code",
   "execution_count": 7,
   "metadata": {},
   "outputs": [
    {
     "name": "stdout",
     "output_type": "stream",
     "text": [
      "COST MATRIX SHAPE: \n",
      "(30000, 30000)\n",
      "DUMMY COST: 215.54088126856874\n",
      "mass transported: 12708.336241443649 index: 0\n",
      "DONE WITH OBTAINING TX ONCE\n",
      "Number of non-zeros in Tx: 24045\n",
      "Cost coarse at index 0\n",
      "mass transported: 12849.53997745969 index: 1\n",
      "DONE WITH OBTAINING TX ONCE\n",
      "Number of non-zeros in Tx: 24530\n",
      "Cost coarse at index 1\n",
      "mass transported: 12990.743713475731 index: 2\n",
      "DONE WITH OBTAINING TX ONCE\n",
      "Number of non-zeros in Tx: 24990\n",
      "Cost coarse at index 2\n",
      "mass transported: 13131.947449491772 index: 3\n",
      "DONE WITH OBTAINING TX ONCE\n",
      "Number of non-zeros in Tx: 25462\n",
      "Cost coarse at index 3\n",
      "mass transported: 13273.151185507812 index: 4\n",
      "DONE WITH OBTAINING TX ONCE\n",
      "Number of non-zeros in Tx: 25971\n",
      "Cost coarse at index 4\n",
      "mass transported: 13414.354921523853 index: 5\n",
      "DONE WITH OBTAINING TX ONCE\n",
      "Number of non-zeros in Tx: 26445\n",
      "Cost coarse at index 5\n",
      "mass transported: 13555.558657539894 index: 6\n",
      "DONE WITH OBTAINING TX ONCE\n",
      "Number of non-zeros in Tx: 26990\n",
      "Cost coarse at index 6\n",
      "mass transported: 13696.762393555935 index: 7\n",
      "DONE WITH OBTAINING TX ONCE\n",
      "Number of non-zeros in Tx: 27535\n",
      "Cost coarse at index 7\n",
      "mass transported: 13837.966129571974 index: 8\n",
      "DONE WITH OBTAINING TX ONCE\n",
      "Number of non-zeros in Tx: 28023\n",
      "Cost coarse at index 8\n",
      "mass transported: 13979.169865588015 index: 9\n",
      "DONE WITH OBTAINING TX ONCE\n",
      "Number of non-zeros in Tx: 28604\n",
      "Cost coarse at index 9\n",
      "mass transported: 14120.373601604055 index: 10\n",
      "DONE WITH OBTAINING TX ONCE\n",
      "Number of non-zeros in Tx: 29187\n",
      "Cost coarse at index 10\n",
      "REAACHEEEDDDDDDDDDDDDD end of pot neg\n"
     ]
    }
   ],
   "source": [
    "pot_neg = POT(PC2_neg, PC4_neg, distEx, distTol)\n",
    "print(\"REAACHEEEDDDDDDDDDDDDD end of pot neg\")"
   ]
  },
  {
   "cell_type": "markdown",
   "metadata": {},
   "source": [
    "## END OF POT. INTERPOLATION OF PC BEGINS HERE"
   ]
  },
  {
   "cell_type": "code",
   "execution_count": 8,
   "metadata": {},
   "outputs": [],
   "source": [
    "k = 0.5\n",
    "\n",
    "# Get interpolated point clouds for positive and negative pressures\n",
    "PCk_pos = pot_pos.interpPC(k)\n",
    "PCk_neg = pot_neg.interpPC(k)"
   ]
  },
  {
   "cell_type": "code",
   "execution_count": 9,
   "metadata": {},
   "outputs": [],
   "source": [
    "pd.DataFrame(PCk_pos['mass']).to_csv('pressurepos_int2.csv', header=False, index=False)\n",
    "pd.DataFrame(PCk_pos['pos']).to_csv('doapos_int2.csv', header=False, index=False)\n",
    "\n",
    "pd.DataFrame(PCk_neg['mass']).to_csv('pressureneg_int2.csv', header=False, index=False)\n",
    "pd.DataFrame(PCk_neg['pos']).to_csv('doaneg_int2.csv', header=False, index=False)\n"
   ]
  },
  {
   "cell_type": "code",
   "execution_count": 15,
   "metadata": {},
   "outputs": [
    {
     "ename": "AttributeError",
     "evalue": "'POT' object has no attribute 'interpolatePC'",
     "output_type": "error",
     "traceback": [
      "\u001b[0;31m---------------------------------------------------------------------------\u001b[0m",
      "\u001b[0;31mAttributeError\u001b[0m                            Traceback (most recent call last)",
      "Cell \u001b[0;32mIn[15], line 2\u001b[0m\n\u001b[1;32m      1\u001b[0m \u001b[38;5;66;03m##PROLLY BETTER INTERPOLATION\u001b[39;00m\n\u001b[0;32m----> 2\u001b[0m PCk_pos_better \u001b[38;5;241m=\u001b[39m \u001b[43mpot_pos\u001b[49m\u001b[38;5;241;43m.\u001b[39;49m\u001b[43minterpolatePC\u001b[49m(k)\n\u001b[1;32m      3\u001b[0m PCk_neg_better \u001b[38;5;241m=\u001b[39m pot_neg\u001b[38;5;241m.\u001b[39minterpolatePC(k)\n",
      "\u001b[0;31mAttributeError\u001b[0m: 'POT' object has no attribute 'interpolatePC'"
     ]
    }
   ],
   "source": [
    "##PROLLY BETTER INTERPOLATION\n",
    "PCk_pos_better = pot_pos.interpolatePC(k)\n",
    "PCk_neg_better = pot_neg.interpolatePC(k)"
   ]
  },
  {
   "cell_type": "code",
   "execution_count": null,
   "metadata": {},
   "outputs": [],
   "source": [
    "pd.DataFrame(PCk_pos['mass']).to_csv('pressurepos_1_3_int2.csv', header=False, index=False)\n",
    "pd.DataFrame(PCk_pos['pos']).to_csv('doapos_1_3_int2.csv', header=False, index=False)\n",
    "\n",
    "pd.DataFrame(PCk_neg['mass']).to_csv('pressureneg_1_3_int2.csv', header=False, index=False)\n",
    "pd.DataFrame(PCk_neg['pos']).to_csv('doaneg_1_3_int2.csv', header=False, index=False)"
   ]
  },
  {
   "cell_type": "code",
   "execution_count": 10,
   "metadata": {},
   "outputs": [
    {
     "ename": "TypeError",
     "evalue": "only integer scalar arrays can be converted to a scalar index",
     "output_type": "error",
     "traceback": [
      "\u001b[0;31m---------------------------------------------------------------------------\u001b[0m",
      "\u001b[0;31mTypeError\u001b[0m                                 Traceback (most recent call last)",
      "Cell \u001b[0;32mIn[10], line 2\u001b[0m\n\u001b[1;32m      1\u001b[0m \u001b[38;5;66;03m### combine pc\u001b[39;00m\n\u001b[0;32m----> 2\u001b[0m all_pressures \u001b[38;5;241m=\u001b[39m \u001b[43mnp\u001b[49m\u001b[38;5;241;43m.\u001b[39;49m\u001b[43mconcatenate\u001b[49m\u001b[43m(\u001b[49m\u001b[43mPCk_pos\u001b[49m\u001b[43m[\u001b[49m\u001b[38;5;124;43m'\u001b[39;49m\u001b[38;5;124;43mmass\u001b[39;49m\u001b[38;5;124;43m'\u001b[39;49m\u001b[43m]\u001b[49m\u001b[43m,\u001b[49m\u001b[43m \u001b[49m\u001b[43mPCk_neg\u001b[49m\u001b[43m[\u001b[49m\u001b[38;5;124;43m'\u001b[39;49m\u001b[38;5;124;43mmass\u001b[39;49m\u001b[38;5;124;43m'\u001b[39;49m\u001b[43m]\u001b[49m\u001b[43m)\u001b[49m\n\u001b[1;32m      3\u001b[0m all_doas \u001b[38;5;241m=\u001b[39m np\u001b[38;5;241m.\u001b[39mconcatenate(PCk_pos[\u001b[38;5;124m'\u001b[39m\u001b[38;5;124mpos\u001b[39m\u001b[38;5;124m'\u001b[39m], PCk_neg[\u001b[38;5;124m'\u001b[39m\u001b[38;5;124mpos\u001b[39m\u001b[38;5;124m'\u001b[39m])\n",
      "\u001b[0;31mTypeError\u001b[0m: only integer scalar arrays can be converted to a scalar index"
     ]
    }
   ],
   "source": [
    "### combine pc\n",
    "all_pressures = np.concatenate(PCk_pos['mass'], PCk_neg['mass'])\n",
    "all_doas = np.concatenate(PCk_pos['pos'], PCk_neg['pos'])"
   ]
  },
  {
   "cell_type": "code",
   "execution_count": 2,
   "metadata": {},
   "outputs": [
    {
     "ename": "NameError",
     "evalue": "name 'all_doas' is not defined",
     "output_type": "error",
     "traceback": [
      "\u001b[0;31m---------------------------------------------------------------------------\u001b[0m",
      "\u001b[0;31mNameError\u001b[0m                                 Traceback (most recent call last)",
      "Cell \u001b[0;32mIn[2], line 3\u001b[0m\n\u001b[1;32m      1\u001b[0m \u001b[38;5;66;03m### RIR\u001b[39;00m\n\u001b[1;32m      2\u001b[0m c\u001b[38;5;241m=\u001b[39m\u001b[38;5;241m243\u001b[39m\n\u001b[0;32m----> 3\u001b[0m timeshifts \u001b[38;5;241m=\u001b[39m np\u001b[38;5;241m.\u001b[39mlinalg\u001b[38;5;241m.\u001b[39mnorm(\u001b[43mall_doas\u001b[49m, axis\u001b[38;5;241m=\u001b[39m\u001b[38;5;241m1\u001b[39m)\u001b[38;5;241m/\u001b[39mc\n\u001b[1;32m      5\u001b[0m time \u001b[38;5;241m=\u001b[39m np\u001b[38;5;241m.\u001b[39mlinspace(\u001b[38;5;241m0\u001b[39m,\u001b[38;5;241m1\u001b[39m,\u001b[38;5;241m100000\u001b[39m)\n\u001b[1;32m      6\u001b[0m ir \u001b[38;5;241m=\u001b[39m np\u001b[38;5;241m.\u001b[39mzeros_like(time)\n",
      "\u001b[0;31mNameError\u001b[0m: name 'all_doas' is not defined"
     ]
    }
   ],
   "source": [
    "### RIR\n",
    "c=243\n",
    "timeshifts = np.linalg.norm(all_doas, axis=1)/c\n",
    "\n",
    "time = np.linspace(0,1,100000)\n",
    "ir = np.zeros_like(time)\n",
    "\n",
    "for i in range (len(all_pressures)):\n",
    "    index = int(np.searchsorted(time, timeshifts[i])\n",
    "    ir[index]+= all_pressures[i]\n",
    "\n",
    "\n",
    "plt.figure(figsize=(8,6))\n",
    "plt.plot(time, ir)\n",
    "plt.title('Ímpulse Response')\n",
    "plt.xlabel('Time')\n",
    "plt.ylabel('Amplitude')\n",
    "plt.grid(True)\n",
    "plt.show()"
   ]
  },
  {
   "cell_type": "code",
   "execution_count": null,
   "metadata": {},
   "outputs": [],
   "source": []
  }
 ],
 "metadata": {
  "kernelspec": {
   "display_name": "Python 3",
   "language": "python",
   "name": "python3"
  },
  "language_info": {
   "codemirror_mode": {
    "name": "ipython",
    "version": 3
   },
   "file_extension": ".py",
   "mimetype": "text/x-python",
   "name": "python",
   "nbconvert_exporter": "python",
   "pygments_lexer": "ipython3",
   "version": "3.9.6"
  }
 },
 "nbformat": 4,
 "nbformat_minor": 2
}
