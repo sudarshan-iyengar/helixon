{
 "cells": [
  {
   "cell_type": "code",
   "execution_count": 1,
   "metadata": {},
   "outputs": [],
   "source": [
    "import numpy as np\n",
    "import pandas as pd\n",
    "import matplotlib.pyplot as plt\n",
    "from POT import POT"
   ]
  },
  {
   "cell_type": "code",
   "execution_count": 2,
   "metadata": {},
   "outputs": [],
   "source": [
    "def split_pos_neg(p):\n",
    "    p_pos_full = np.zeros_like(p)#, dtype=np.float16)\n",
    "    p_neg_full = np.zeros_like(p)#, dtype=np.float16)\n",
    "\n",
    "    p_pos_indices = np.where(p > 0)[0]\n",
    "    p_neg_indices = np.where(p < 0)[0]\n",
    "\n",
    "    p_pos_full[p_pos_indices] = p[p_pos_indices]\n",
    "    p_neg_full[p_neg_indices] = p[p_neg_indices]\n",
    "\n",
    "    p_neg_full = np.abs(p_neg_full)\n",
    "\n",
    "    return p_pos_full, p_neg_full"
   ]
  },
  {
   "cell_type": "code",
   "execution_count": 3,
   "metadata": {},
   "outputs": [
    {
     "name": "stdout",
     "output_type": "stream",
     "text": [
      "PRESSURE SHAPE: \n",
      "(39600,)\n",
      "0.0314622997415602\n",
      "\n",
      "DOA SHAPE: \n",
      "(39600, 3)\n",
      "[-0.30038384 -0.90115151  2.70345452]\n",
      "\n",
      "PRESSURE SHAPE: \n",
      "(39600,)\n",
      "-0.0164291138301105\n",
      "\n",
      "DOA SHAPE: \n",
      "(39600, 3)\n",
      "[ 2.29442997e-16 -1.28148124e+00 -2.56296248e+00]\n",
      "\n"
     ]
    }
   ],
   "source": [
    "# Load pressure and DOA data for locations 2 and 4\n",
    "pressure_files = [r'C:\\Users\\r0821191\\Documents\\helixon\\SRIR40k\\ground_1_0_p.csv', r'C:\\Users\\r0821191\\Documents\\helixon\\SRIR40k\\ground_5_0_p.csv']\n",
    "doa_files = [r'C:\\Users\\r0821191\\Documents\\helixon\\SRIR40k\\ground_1_0_doa.csv', r'C:\\Users\\r0821191\\Documents\\helixon\\SRIR40k\\ground_5_0_doa.csv']\n",
    "\n",
    "p_w_pos = []\n",
    "p_w_neg = []\n",
    "doa_data = []\n",
    "\n",
    "for i in range(len(pressure_files)):\n",
    "    df_pressure = pd.read_csv(pressure_files[i], header=None).values.flatten()#.astype(np.float16)\n",
    "    df_pressure = df_pressure[400:40000]#.astype(np.float16)\n",
    "    print(\"PRESSURE SHAPE: \")\n",
    "    print(df_pressure.shape)\n",
    "    print(df_pressure[0] )\n",
    "    print()\n",
    "\n",
    "\n",
    "    df_doa = pd.read_csv(doa_files[i], header=None).values#.astype(np.float16)\n",
    "    df_doa = df_doa[400:40000]#.astype(np.float16)\n",
    "    print(\"DOA SHAPE: \")\n",
    "    print(df_doa.shape)\n",
    "    print(df_doa[0])\n",
    "    print()\n",
    "\n",
    "    combined_df = pd.DataFrame({'pressure': df_pressure, 'doa_x': df_doa[:,0], 'doa_y': df_doa[:,1], 'doa_z': df_doa[:,2]})\n",
    "\n",
    "    # Drop rows with any NaN values and get corresponding indices\n",
    "    combined_df = combined_df.dropna()\n",
    "\n",
    "    # Separate pressure data back\n",
    "    df_pressure = combined_df['pressure'].values\n",
    "    df_doa = combined_df[['doa_x', 'doa_y', 'doa_z']].values\n",
    "\n",
    "\n",
    "\n",
    "    # Splitting positive and negative pressure\n",
    "    p_pos, p_neg = split_pos_neg(df_pressure)\n",
    "    p_w_pos.append(p_pos)\n",
    "    p_w_neg.append(p_neg)\n",
    "    doa_data.append(df_doa)\n",
    "\n",
    "doa_data[0] = doa_data[0][0:30000]\n",
    "doa_data[1] = doa_data[1][0:30000]\n",
    "p_w_pos[0] = p_w_pos[0][0:30000]\n",
    "p_w_pos[1] = p_w_pos[1][0:30000]\n",
    "p_w_neg[0] = p_w_neg[0][0:30000]\n",
    "p_w_neg[1] = p_w_neg[1][0:30000]\n",
    "\n",
    "\n"
   ]
  },
  {
   "cell_type": "code",
   "execution_count": 4,
   "metadata": {},
   "outputs": [
    {
     "name": "stdout",
     "output_type": "stream",
     "text": [
      "CHECK IF DIMENSIONS ARE RIGHT: \n",
      "(30000, 3)\n",
      "(30000,)\n",
      "30000\n",
      "\n"
     ]
    }
   ],
   "source": [
    "# Create point clouds for positive and negative pressures\n",
    "PC2_pos = {'pos': doa_data[0].reshape(-1,3), 'mass': p_w_pos[0], 'n': len(doa_data[0])}\n",
    "PC4_pos = {'pos': doa_data[1].reshape(-1,3), 'mass': p_w_pos[1], 'n': len(doa_data[1])}\n",
    "\n",
    "PC2_neg = {'pos': doa_data[0].reshape(-1,3), 'mass': p_w_neg[0], 'n': len(doa_data[0])}\n",
    "PC4_neg = {'pos': doa_data[1].reshape(-1,3), 'mass': p_w_neg[1], 'n': len(doa_data[1])}\n",
    "\n",
    "\n",
    "print(\"CHECK IF DIMENSIONS ARE RIGHT: \")\n",
    "print(PC2_neg['pos'].shape)\n",
    "print(PC2_pos['mass'].shape)\n",
    "print(PC2_pos['n'])\n",
    "print()"
   ]
  },
  {
   "cell_type": "code",
   "execution_count": 5,
   "metadata": {},
   "outputs": [
    {
     "name": "stdout",
     "output_type": "stream",
     "text": [
      "DIST EX: \n",
      "73.8149854795818\n",
      "\n"
     ]
    }
   ],
   "source": [
    "# Set expected distance and tolerance\n",
    "distEx = np.nanmean(np.abs(PC4_pos['pos'] - PC2_pos['pos']))#.astype(np.float16)  # IDK WHAT TO PUT SO I DID THIS\n",
    "distTol = 0.2 #np.float16(0.2)\n",
    "print(\"DIST EX: \")\n",
    "print(distEx)\n",
    "print()\n"
   ]
  },
  {
   "cell_type": "code",
   "execution_count": 6,
   "metadata": {},
   "outputs": [
    {
     "ename": "KeyboardInterrupt",
     "evalue": "",
     "output_type": "error",
     "traceback": [
      "\u001b[1;31m---------------------------------------------------------------------------\u001b[0m",
      "\u001b[1;31mKeyboardInterrupt\u001b[0m                         Traceback (most recent call last)",
      "Cell \u001b[1;32mIn[6], line 1\u001b[0m\n\u001b[1;32m----> 1\u001b[0m pot_pos \u001b[38;5;241m=\u001b[39m \u001b[43mPOT\u001b[49m\u001b[43m(\u001b[49m\u001b[43mPC2_pos\u001b[49m\u001b[43m,\u001b[49m\u001b[43m \u001b[49m\u001b[43mPC4_pos\u001b[49m\u001b[43m,\u001b[49m\u001b[43m \u001b[49m\u001b[43mdistEx\u001b[49m\u001b[43m,\u001b[49m\u001b[43m \u001b[49m\u001b[43mdistTol\u001b[49m\u001b[43m)\u001b[49m\n\u001b[0;32m      2\u001b[0m \u001b[38;5;28mprint\u001b[39m(\u001b[38;5;124m\"\u001b[39m\u001b[38;5;124mREAACHEEEDDDDDDDDDDDDD end of pot pos\u001b[39m\u001b[38;5;124m\"\u001b[39m)\n\u001b[0;32m      3\u001b[0m \u001b[38;5;28mprint\u001b[39m(np\u001b[38;5;241m.\u001b[39mmat(pot_pos\u001b[38;5;241m.\u001b[39mT)\u001b[38;5;241m.\u001b[39mshape)\n",
      "File \u001b[1;32mc:\\Users\\r0821191\\Documents\\helixon\\POT.py:29\u001b[0m, in \u001b[0;36mPOT.__init__\u001b[1;34m(self, PC1, PC2, distEx, distTol)\u001b[0m\n\u001b[0;32m     25\u001b[0m \u001b[38;5;28mself\u001b[39m\u001b[38;5;241m.\u001b[39mT \u001b[38;5;241m=\u001b[39m \u001b[38;5;241m0\u001b[39m\n\u001b[0;32m     27\u001b[0m \u001b[38;5;66;03m# Prepare scost matrix\u001b[39;00m\n\u001b[0;32m     28\u001b[0m \u001b[38;5;66;03m#C = dist(PC1['pos'], PC2['pos'], metric='sqeuclidean')#.astype(np.float16)\u001b[39;00m\n\u001b[1;32m---> 29\u001b[0m C\u001b[38;5;241m=\u001b[39m\u001b[38;5;28;43mself\u001b[39;49m\u001b[38;5;241;43m.\u001b[39;49m\u001b[43mcalc_cost\u001b[49m\u001b[43m(\u001b[49m\u001b[43mPC1\u001b[49m\u001b[43m[\u001b[49m\u001b[38;5;124;43m'\u001b[39;49m\u001b[38;5;124;43mpos\u001b[39;49m\u001b[38;5;124;43m'\u001b[39;49m\u001b[43m]\u001b[49m\u001b[43m,\u001b[49m\u001b[43m \u001b[49m\u001b[43mPC2\u001b[49m\u001b[43m[\u001b[49m\u001b[38;5;124;43m'\u001b[39;49m\u001b[38;5;124;43mpos\u001b[39;49m\u001b[38;5;124;43m'\u001b[39;49m\u001b[43m]\u001b[49m\u001b[43m,\u001b[49m\u001b[43m \u001b[49m\u001b[43mPC1\u001b[49m\u001b[43m[\u001b[49m\u001b[38;5;124;43m'\u001b[39;49m\u001b[38;5;124;43mmass\u001b[39;49m\u001b[38;5;124;43m'\u001b[39;49m\u001b[43m]\u001b[49m\u001b[43m,\u001b[49m\u001b[43m \u001b[49m\u001b[43mPC2\u001b[49m\u001b[43m[\u001b[49m\u001b[38;5;124;43m'\u001b[39;49m\u001b[38;5;124;43mmass\u001b[39;49m\u001b[38;5;124;43m'\u001b[39;49m\u001b[43m]\u001b[49m\u001b[43m,\u001b[49m\u001b[43m \u001b[49m\u001b[38;5;241;43m0.003\u001b[39;49m\u001b[43m)\u001b[49m\n\u001b[0;32m     30\u001b[0m \u001b[38;5;28mprint\u001b[39m(\u001b[38;5;124m\"\u001b[39m\u001b[38;5;124mCOST MATRIX SHAPE: \u001b[39m\u001b[38;5;124m\"\u001b[39m)\n\u001b[0;32m     31\u001b[0m \u001b[38;5;28mprint\u001b[39m(C\u001b[38;5;241m.\u001b[39mshape)\n",
      "File \u001b[1;32mc:\\Users\\r0821191\\Documents\\helixon\\POT.py:118\u001b[0m, in \u001b[0;36mPOT.calc_cost\u001b[1;34m(self, XA, XB, PA, PB, mue)\u001b[0m\n\u001b[0;32m    116\u001b[0m C \u001b[38;5;241m=\u001b[39m dist(XA,XB, metric\u001b[38;5;241m=\u001b[39m\u001b[38;5;124m'\u001b[39m\u001b[38;5;124msqeuclidean\u001b[39m\u001b[38;5;124m'\u001b[39m)\n\u001b[0;32m    117\u001b[0m sign_mask \u001b[38;5;241m=\u001b[39m (PA[:,np\u001b[38;5;241m.\u001b[39mnewaxis]\u001b[38;5;241m*\u001b[39mPB[np\u001b[38;5;241m.\u001b[39mnewaxis,:])\u001b[38;5;241m<\u001b[39m\u001b[38;5;241m0\u001b[39m\n\u001b[1;32m--> 118\u001b[0m pressure_diff \u001b[38;5;241m=\u001b[39m \u001b[43mnp\u001b[49m\u001b[38;5;241;43m.\u001b[39;49m\u001b[43mabs\u001b[49m\u001b[43m(\u001b[49m\u001b[43mPA\u001b[49m\u001b[43m[\u001b[49m\u001b[43m:\u001b[49m\u001b[43m,\u001b[49m\u001b[43mnp\u001b[49m\u001b[38;5;241;43m.\u001b[39;49m\u001b[43mnewaxis\u001b[49m\u001b[43m]\u001b[49m\u001b[38;5;241;43m-\u001b[39;49m\u001b[43mPB\u001b[49m\u001b[43m[\u001b[49m\u001b[43mnp\u001b[49m\u001b[38;5;241;43m.\u001b[39;49m\u001b[43mnewaxis\u001b[49m\u001b[43m,\u001b[49m\u001b[43m:\u001b[49m\u001b[43m]\u001b[49m\u001b[43m)\u001b[49m\n\u001b[0;32m    119\u001b[0m penalty \u001b[38;5;241m=\u001b[39m mue \u001b[38;5;241m*\u001b[39m pressure_diff \u001b[38;5;241m*\u001b[39m sign_mask\n\u001b[0;32m    120\u001b[0m C\u001b[38;5;241m+\u001b[39m\u001b[38;5;241m=\u001b[39mpenalty\n",
      "\u001b[1;31mKeyboardInterrupt\u001b[0m: "
     ]
    }
   ],
   "source": [
    "pot_pos = POT(PC2_pos, PC4_pos, distEx, distTol)\n",
    "print(\"REAACHEEEDDDDDDDDDDDDD end of pot pos\")\n",
    "print(np.mat(pot_pos.T).shape)"
   ]
  },
  {
   "cell_type": "code",
   "execution_count": 7,
   "metadata": {},
   "outputs": [
    {
     "name": "stdout",
     "output_type": "stream",
     "text": [
      "COST MATRIX SHAPE: \n",
      "(30000, 30000)\n",
      "DUMMY COST: 217.94608325403487\n",
      "mass transported: 12708.336241443649 index: 0\n",
      "NumIterMax: 10000000\n",
      "DONE WITH OBTAINING TX ONCE\n",
      "Number of non-zeros in Tx: 24044\n",
      "Cost coarse at index 0\n",
      "mass transported: 12849.53997745969 index: 1\n",
      "NumIterMax: 10000000\n",
      "DONE WITH OBTAINING TX ONCE\n",
      "Number of non-zeros in Tx: 24544\n",
      "Cost coarse at index 1\n",
      "mass transported: 12990.743713475731 index: 2\n",
      "NumIterMax: 10000000\n",
      "DONE WITH OBTAINING TX ONCE\n",
      "Number of non-zeros in Tx: 25075\n",
      "Cost coarse at index 2\n",
      "mass transported: 13131.947449491772 index: 3\n",
      "NumIterMax: 10000000\n",
      "DONE WITH OBTAINING TX ONCE\n",
      "Number of non-zeros in Tx: 25572\n",
      "Cost coarse at index 3\n",
      "mass transported: 13273.151185507812 index: 4\n",
      "NumIterMax: 10000000\n",
      "DONE WITH OBTAINING TX ONCE\n",
      "Number of non-zeros in Tx: 26096\n",
      "Cost coarse at index 4\n",
      "mass transported: 13414.354921523853 index: 5\n",
      "NumIterMax: 10000000\n",
      "DONE WITH OBTAINING TX ONCE\n",
      "Number of non-zeros in Tx: 26616\n",
      "Cost coarse at index 5\n",
      "mass transported: 13555.558657539894 index: 6\n",
      "NumIterMax: 10000000\n",
      "DONE WITH OBTAINING TX ONCE\n",
      "Number of non-zeros in Tx: 27125\n",
      "Cost coarse at index 6\n",
      "mass transported: 13696.762393555935 index: 7\n",
      "NumIterMax: 10000000\n",
      "Error at index 7: Error in the EMD resolution: try to increase the number of dummy points\n",
      "Reverting to last successful transport matrix and values.\n",
      "mass transported: 13837.966129571974 index: 8\n",
      "NumIterMax: 10000000\n",
      "DONE WITH OBTAINING TX ONCE\n",
      "Number of non-zeros in Tx: 28218\n",
      "Cost coarse at index 8\n",
      "mass transported: 13979.169865588015 index: 9\n",
      "NumIterMax: 10000000\n",
      "DONE WITH OBTAINING TX ONCE\n",
      "Number of non-zeros in Tx: 28773\n",
      "Cost coarse at index 9\n",
      "REAACHEEEDDDDDDDDDDDDD end of pot neg\n"
     ]
    }
   ],
   "source": [
    "pot_neg = POT(PC2_neg, PC4_neg, distEx, distTol)\n",
    "print(\"REAACHEEEDDDDDDDDDDDDD end of pot neg\")"
   ]
  },
  {
   "cell_type": "markdown",
   "metadata": {},
   "source": [
    "## END OF POT. INTERPOLATION OF PC BEGINS HERE"
   ]
  },
  {
   "cell_type": "code",
   "execution_count": 8,
   "metadata": {},
   "outputs": [],
   "source": [
    "##PROLLY BETTER INTERPOLATION\n",
    "k=0.5\n",
    "PCk_pos_better = pot_pos.interpolatePC(k)\n",
    "PCk_neg_better = pot_neg.interpolatePC(k)"
   ]
  },
  {
   "cell_type": "markdown",
   "metadata": {},
   "source": [
    "## MAKE CSVs\n",
    "This takes the format \n",
    "method_PC-Interpolated_fromwhat-towhat_pressure/doa_pos/neg.csv\n",
    "e.g. pot_2_1-3_p_pos.csv, pot_2_1-3_doa_pos.csv"
   ]
  },
  {
   "cell_type": "code",
   "execution_count": 9,
   "metadata": {},
   "outputs": [],
   "source": [
    "pd.DataFrame(PCk_pos_better['pressure']).to_csv('interp_csv/potMue003_3_1-5_p_pos.csv', header=False, index=False)\n",
    "pd.DataFrame(PCk_pos_better['doa']).to_csv('interp_csv/potMue003_3_1-5_doa_pos.csv', header=False, index=False)\n",
    "\n",
    "pd.DataFrame(PCk_neg_better['pressure']).to_csv('interp_csv/pot_3_1-5_p_neg.csv', header=False, index=False)\n",
    "pd.DataFrame(PCk_neg_better['doa']).to_csv('interp_csv/pot_3_1-5_doa_neg.csv', header=False, index=False)"
   ]
  },
  {
   "cell_type": "code",
   "execution_count": 10,
   "metadata": {},
   "outputs": [
    {
     "ename": "NameError",
     "evalue": "name 'PCk_pos' is not defined",
     "output_type": "error",
     "traceback": [
      "\u001b[1;31m---------------------------------------------------------------------------\u001b[0m",
      "\u001b[1;31mNameError\u001b[0m                                 Traceback (most recent call last)",
      "Cell \u001b[1;32mIn[10], line 2\u001b[0m\n\u001b[0;32m      1\u001b[0m \u001b[38;5;66;03m### combine pc\u001b[39;00m\n\u001b[1;32m----> 2\u001b[0m all_pressures \u001b[38;5;241m=\u001b[39m np\u001b[38;5;241m.\u001b[39mconcatenate(\u001b[43mPCk_pos\u001b[49m[\u001b[38;5;124m'\u001b[39m\u001b[38;5;124mmass\u001b[39m\u001b[38;5;124m'\u001b[39m], PCk_neg[\u001b[38;5;124m'\u001b[39m\u001b[38;5;124mmass\u001b[39m\u001b[38;5;124m'\u001b[39m])\n\u001b[0;32m      3\u001b[0m all_doas \u001b[38;5;241m=\u001b[39m np\u001b[38;5;241m.\u001b[39mconcatenate(PCk_pos[\u001b[38;5;124m'\u001b[39m\u001b[38;5;124mpos\u001b[39m\u001b[38;5;124m'\u001b[39m], PCk_neg[\u001b[38;5;124m'\u001b[39m\u001b[38;5;124mpos\u001b[39m\u001b[38;5;124m'\u001b[39m])\n",
      "\u001b[1;31mNameError\u001b[0m: name 'PCk_pos' is not defined"
     ]
    }
   ],
   "source": [
    "### combine pc\n",
    "all_pressures = np.concatenate(PCk_pos['mass'], PCk_neg['mass'])\n",
    "all_doas = np.concatenate(PCk_pos['pos'], PCk_neg['pos'])"
   ]
  },
  {
   "cell_type": "code",
   "execution_count": 2,
   "metadata": {},
   "outputs": [
    {
     "ename": "NameError",
     "evalue": "name 'all_doas' is not defined",
     "output_type": "error",
     "traceback": [
      "\u001b[0;31m---------------------------------------------------------------------------\u001b[0m",
      "\u001b[0;31mNameError\u001b[0m                                 Traceback (most recent call last)",
      "Cell \u001b[0;32mIn[2], line 3\u001b[0m\n\u001b[1;32m      1\u001b[0m \u001b[38;5;66;03m### RIR\u001b[39;00m\n\u001b[1;32m      2\u001b[0m c\u001b[38;5;241m=\u001b[39m\u001b[38;5;241m243\u001b[39m\n\u001b[0;32m----> 3\u001b[0m timeshifts \u001b[38;5;241m=\u001b[39m np\u001b[38;5;241m.\u001b[39mlinalg\u001b[38;5;241m.\u001b[39mnorm(\u001b[43mall_doas\u001b[49m, axis\u001b[38;5;241m=\u001b[39m\u001b[38;5;241m1\u001b[39m)\u001b[38;5;241m/\u001b[39mc\n\u001b[1;32m      5\u001b[0m time \u001b[38;5;241m=\u001b[39m np\u001b[38;5;241m.\u001b[39mlinspace(\u001b[38;5;241m0\u001b[39m,\u001b[38;5;241m1\u001b[39m,\u001b[38;5;241m100000\u001b[39m)\n\u001b[1;32m      6\u001b[0m ir \u001b[38;5;241m=\u001b[39m np\u001b[38;5;241m.\u001b[39mzeros_like(time)\n",
      "\u001b[0;31mNameError\u001b[0m: name 'all_doas' is not defined"
     ]
    }
   ],
   "source": [
    "### RIR\n",
    "c=243\n",
    "timeshifts = np.linalg.norm(all_doas, axis=1)/c\n",
    "\n",
    "time = np.linspace(0,1,100000)\n",
    "ir = np.zeros_like(time)\n",
    "\n",
    "for i in range (len(all_pressures)):\n",
    "    index = int(np.searchsorted(time, timeshifts[i])\n",
    "    ir[index]+= all_pressures[i]\n",
    "\n",
    "\n",
    "plt.figure(figsize=(8,6))\n",
    "plt.plot(time, ir)\n",
    "plt.title('Ímpulse Response')\n",
    "plt.xlabel('Time')\n",
    "plt.ylabel('Amplitude')\n",
    "plt.grid(True)\n",
    "plt.show()"
   ]
  },
  {
   "cell_type": "code",
   "execution_count": null,
   "metadata": {},
   "outputs": [],
   "source": []
  }
 ],
 "metadata": {
  "kernelspec": {
   "display_name": "Python 3",
   "language": "python",
   "name": "python3"
  },
  "language_info": {
   "codemirror_mode": {
    "name": "ipython",
    "version": 3
   },
   "file_extension": ".py",
   "mimetype": "text/x-python",
   "name": "python",
   "nbconvert_exporter": "python",
   "pygments_lexer": "ipython3",
   "version": "3.9.6"
  }
 },
 "nbformat": 4,
 "nbformat_minor": 2
}
