{
 "cells": [
  {
   "cell_type": "code",
   "execution_count": 1,
   "metadata": {},
   "outputs": [],
   "source": [
    "import numpy as np\n",
    "import pandas as pd\n",
    "import matplotlib.pyplot as plt\n",
    "from POT import POT"
   ]
  },
  {
   "cell_type": "code",
   "execution_count": null,
   "metadata": {},
   "outputs": [],
   "source": [
    "def split_pos_neg(p):\n",
    "    p_pos_full = np.zeros_like(p)#, dtype=np.float16)\n",
    "    p_neg_full = np.zeros_like(p)#, dtype=np.float16)\n",
    "\n",
    "    p_pos_indices = np.where(p > 0)[0]\n",
    "    p_neg_indices = np.where(p < 0)[0]\n",
    "\n",
    "    p_pos_full[p_pos_indices] = p[p_pos_indices]\n",
    "    p_neg_full[p_neg_indices] = p[p_neg_indices]\n",
    "\n",
    "    p_neg_full = np.abs(p_neg_full)\n",
    "\n",
    "    return p_pos_full, p_neg_full"
   ]
  },
  {
   "cell_type": "code",
   "execution_count": null,
   "metadata": {},
   "outputs": [],
   "source": [
    "# Load pressure and DOA data for locations 2 and 4\n",
    "pressure_files = ['helixon/csv/P_1.csv', 'helixon/csv/P_3.csv']\n",
    "doa_files = ['helixon/csv/doa_1.csv', 'helixon/csv/doa_3.csv']\n",
    "\n",
    "p_w_pos = []\n",
    "p_w_neg = []\n",
    "doa_data = []\n",
    "\n",
    "for i in range(len(pressure_files)):\n",
    "    df_pressure = pd.read_csv(pressure_files[i], header=None).values.flatten()#.astype(np.float16)\n",
    "    df_pressure = df_pressure[400:30000]#.astype(np.float16)\n",
    "    print(\"PRESSURE SHAPE: \")\n",
    "    print(df_pressure.shape)\n",
    "    print(df_pressure[0] )\n",
    "    print()\n",
    "\n",
    "\n",
    "    df_doa = pd.read_csv(doa_files[i], header=None).values#.astype(np.float16)\n",
    "    df_doa = df_doa[400:30000]#.astype(np.float16)\n",
    "    print(\"DOA SHAPE: \")\n",
    "    print(df_doa.shape)\n",
    "    print(df_doa[0])\n",
    "    print()\n",
    "\n",
    "    combined_df = pd.DataFrame({'pressure': df_pressure, 'doa_x': df_doa[:,0], 'doa_y': df_doa[:,1], 'doa_z': df_doa[:,2]})\n",
    "\n",
    "    # Drop rows with any NaN values and get corresponding indices\n",
    "    combined_df = combined_df.dropna()\n",
    "\n",
    "    # Separate pressure data back\n",
    "    df_pressure = combined_df['pressure'].values\n",
    "    df_doa = combined_df[['doa_x', 'doa_y', 'doa_z']].values\n",
    "\n",
    "    # Splitting positive and negative pressure\n",
    "    p_pos, p_neg = split_pos_neg(df_pressure)\n",
    "    p_w_pos.append(p_pos)\n",
    "    p_w_neg.append(p_neg)\n",
    "    doa_data.append(df_doa)\n",
    "\n",
    "doa_data[0] = doa_data[0][0:20000]\n",
    "doa_data[1] = doa_data[1][0:20000]\n",
    "p_w_pos[0] = p_w_pos[0][0:20000]\n",
    "p_w_pos[1] = p_w_pos[1][0:20000]\n",
    "p_w_neg[0] = p_w_neg[0][0:20000]\n",
    "p_w_neg[1] = p_w_neg[1][0:20000]\n"
   ]
  },
  {
   "cell_type": "code",
   "execution_count": null,
   "metadata": {},
   "outputs": [],
   "source": [
    "# Create point clouds for positive and negative pressures\n",
    "PC2_pos = {'pos': doa_data[0].reshape(-1,3), 'mass': p_w_pos[0], 'n': len(doa_data[0])}\n",
    "PC4_pos = {'pos': doa_data[1].reshape(-1,3), 'mass': p_w_pos[1], 'n': len(doa_data[1])}\n",
    "\n",
    "PC2_neg = {'pos': doa_data[0].reshape(-1,3), 'mass': p_w_neg[0], 'n': len(doa_data[0])}\n",
    "PC4_neg = {'pos': doa_data[1].reshape(-1,3), 'mass': p_w_neg[1], 'n': len(doa_data[1])}\n",
    "print(\"CHECK IF DIMENSIONS ARE RIGHT: \")\n",
    "print(PC2_neg['pos'].shape)\n",
    "print(PC2_pos['mass'].shape)\n",
    "print(PC2_pos['n'])\n",
    "print()"
   ]
  },
  {
   "cell_type": "code",
   "execution_count": null,
   "metadata": {},
   "outputs": [],
   "source": [
    "# Set expected distance and tolerance\n",
    "distEx = np.nanmean(np.abs(PC4_pos['pos'] - PC2_pos['pos']))#.astype(np.float16)  # IDK WHAT TO PUT SO I DID THIS\n",
    "distTol = 0.2 #np.float16(0.2)\n",
    "print(\"DIST EX: \")\n",
    "print(distEx)\n",
    "print()\n"
   ]
  },
  {
   "cell_type": "code",
   "execution_count": null,
   "metadata": {},
   "outputs": [],
   "source": [
    "pot_pos = POT(PC2_pos, PC4_pos, distEx, distTol)\n",
    "print(\"REAACHEEEDDDDDDDDDDDDD end of pot pos\")\n",
    "print(np.mat(pot_pos.T).shape)"
   ]
  },
  {
   "cell_type": "code",
   "execution_count": null,
   "metadata": {},
   "outputs": [],
   "source": [
    "pot_neg = POT(PC2_neg, PC4_neg, distEx, distTol)\n",
    "print(\"REAACHEEEDDDDDDDDDDDDD end of pot neg\")"
   ]
  },
  {
   "cell_type": "markdown",
   "metadata": {},
   "source": [
    "## END OF POT. INTERPOLATION OF PC BEGINS HERE"
   ]
  },
  {
   "cell_type": "code",
   "execution_count": null,
   "metadata": {},
   "outputs": [],
   "source": [
    "k = 0.5\n",
    "\n",
    "# Get interpolated point clouds for positive and negative pressures\n",
    "PCk_pos = pot_pos.interpPC(k)\n",
    "PCk_neg = pot_neg.interpPC(k)\n"
   ]
  },
  {
   "cell_type": "code",
   "execution_count": null,
   "metadata": {},
   "outputs": [],
   "source": [
    "### combine pc\n"
   ]
  }
 ],
 "metadata": {
  "kernelspec": {
   "display_name": "Python 3",
   "language": "python",
   "name": "python3"
  },
  "language_info": {
   "codemirror_mode": {
    "name": "ipython",
    "version": 3
   },
   "file_extension": ".py",
   "mimetype": "text/x-python",
   "name": "python",
   "nbconvert_exporter": "python",
   "pygments_lexer": "ipython3",
   "version": "3.9.6"
  }
 },
 "nbformat": 4,
 "nbformat_minor": 2
}
